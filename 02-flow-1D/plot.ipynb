{
 "cells": [
  {
   "cell_type": "markdown",
   "id": "5423d1b7-e00a-43da-9629-751f795b3231",
   "metadata": {},
   "source": [
    "# 1D variably saturated flow"
   ]
  },
  {
   "cell_type": "code",
   "execution_count": null,
   "id": "3e43e0b4-e5ca-4922-8106-b63b8fb4e213",
   "metadata": {},
   "outputs": [],
   "source": [
    "import sys\n",
    "import os\n",
    "try:\n",
    "  pflotran_dir = os.environ['PFLOTRAN_DIR']\n",
    "except KeyError:\n",
    "  print('PFLOTRAN_DIR must point to PFLOTRAN installation directory and be defined in system environment variables.')\n",
    "  sys.exit(1)\n",
    "sys.path.append(pflotran_dir + '/src/python')\n",
    "import numpy as np\n",
    "import matplotlib\n",
    "import matplotlib.pyplot as plt\n",
    "import math\n",
    "import pflotran as pft"
   ]
  },
  {
   "cell_type": "markdown",
   "id": "468b2753-c93b-4220-ac51-899b1837ab8c",
   "metadata": {},
   "source": [
    "Find Tecplot point files in current directory"
   ]
  },
  {
   "cell_type": "code",
   "execution_count": null,
   "id": "7c728cdd-526d-4b70-ad6b-a73b1f5ad00f",
   "metadata": {},
   "outputs": [],
   "source": [
    "path = []\n",
    "path.append('.')\n",
    "\n",
    "files = pft.get_tec_filenames('1D_vsat_flow',range(5)) # CHANGE this for new filename and range\n",
    "filenames = pft.get_full_paths(path,files)"
   ]
  },
  {
   "cell_type": "markdown",
   "id": "0dc387ac-1f58-4d55-95ea-8af7409fbe1e",
   "metadata": {},
   "source": [
    "## Plot saturation profile over time"
   ]
  },
  {
   "cell_type": "code",
   "execution_count": null,
   "id": "81c97964-b298-4b22-8d27-4640e72d76b7",
   "metadata": {},
   "outputs": [],
   "source": [
    "f = plt.figure(figsize=(6,6), dpi=150)\n",
    "plt.subplot(1,1,1)\n",
    "f.suptitle(\"1D Variably Saturated Flow\",fontsize=16)\n",
    "plt.xlabel('Liquid Saturation [-]')\n",
    "plt.ylabel('Z [m]')\n",
    "\n",
    "plt.xlim(0.,1.)\n",
    "\n",
    "# read data and plot \n",
    "for ifile in range(len(filenames)):\n",
    "    # select the variables for the plot\n",
    "    # MODIFY this if your want to plot different variables\n",
    "    x_var = 5 # the 5th variable in the .tec file (i.e., Liquid Saturation)\n",
    "    y_var = 3 # the 3rd variable in the .tec file (i.e., Z [m])\n",
    "    data = pft.Dataset(filenames[ifile],x_var,y_var) \n",
    "    plt.plot(data.get_array('x'),data.get_array('y'),label=data.title)\n",
    "\n",
    "# set legend\n",
    "plt.legend(loc=1,title='Time [y]')\n",
    "plt.setp(plt.gca().get_legend().get_texts(),fontsize='small')\n",
    "plt.gca().get_legend().get_frame().set_fill(False)\n",
    "plt.gca().get_legend().draw_frame(False)\n",
    "\n",
    "f.subplots_adjust(hspace=0.2,wspace=0.2,\n",
    "                  bottom=.12,top=.9,\n",
    "                  left=.12,right=.9)\n",
    "\n",
    "plt.show()"
   ]
  }
 ],
 "metadata": {
  "kernelspec": {
   "display_name": "Python 3 (ipykernel)",
   "language": "python",
   "name": "python3"
  },
  "language_info": {
   "codemirror_mode": {
    "name": "ipython",
    "version": 3
   },
   "file_extension": ".py",
   "mimetype": "text/x-python",
   "name": "python",
   "nbconvert_exporter": "python",
   "pygments_lexer": "ipython3",
   "version": "3.10.12"
  }
 },
 "nbformat": 4,
 "nbformat_minor": 5
}
